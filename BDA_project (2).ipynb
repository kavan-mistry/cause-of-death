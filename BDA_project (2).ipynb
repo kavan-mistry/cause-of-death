{
 "cells": [
  {
   "cell_type": "code",
   "execution_count": 1,
   "metadata": {
    "id": "6cm-BNQsJwXm"
   },
   "outputs": [
    {
     "ename": "ModuleNotFoundError",
     "evalue": "No module named 'plotly'",
     "output_type": "error",
     "traceback": [
      "\u001b[1;31m---------------------------------------------------------------------------\u001b[0m",
      "\u001b[1;31mModuleNotFoundError\u001b[0m                       Traceback (most recent call last)",
      "Cell \u001b[1;32mIn[1], line 5\u001b[0m\n\u001b[0;32m      3\u001b[0m \u001b[38;5;28;01mimport\u001b[39;00m \u001b[38;5;21;01mmatplotlib\u001b[39;00m\u001b[38;5;21;01m.\u001b[39;00m\u001b[38;5;21;01mpyplot\u001b[39;00m \u001b[38;5;28;01mas\u001b[39;00m \u001b[38;5;21;01mplt\u001b[39;00m\n\u001b[0;32m      4\u001b[0m \u001b[38;5;28;01mimport\u001b[39;00m \u001b[38;5;21;01mseaborn\u001b[39;00m \u001b[38;5;28;01mas\u001b[39;00m \u001b[38;5;21;01msns\u001b[39;00m\n\u001b[1;32m----> 5\u001b[0m \u001b[38;5;28;01mimport\u001b[39;00m \u001b[38;5;21;01mplotly\u001b[39;00m\u001b[38;5;21;01m.\u001b[39;00m\u001b[38;5;21;01mexpress\u001b[39;00m \u001b[38;5;28;01mas\u001b[39;00m \u001b[38;5;21;01mpx\u001b[39;00m\n\u001b[0;32m      6\u001b[0m \u001b[38;5;28;01mfrom\u001b[39;00m \u001b[38;5;21;01msklearn\u001b[39;00m\u001b[38;5;21;01m.\u001b[39;00m\u001b[38;5;21;01mmodel_selection\u001b[39;00m \u001b[38;5;28;01mimport\u001b[39;00m train_test_split\n\u001b[0;32m      7\u001b[0m \u001b[38;5;28;01mfrom\u001b[39;00m \u001b[38;5;21;01msklearn\u001b[39;00m\u001b[38;5;21;01m.\u001b[39;00m\u001b[38;5;21;01mmetrics\u001b[39;00m \u001b[38;5;28;01mimport\u001b[39;00m mean_squared_error, r2_score\n",
      "\u001b[1;31mModuleNotFoundError\u001b[0m: No module named 'plotly'"
     ]
    }
   ],
   "source": [
    "import numpy as np\n",
    "import pandas as pd\n",
    "import matplotlib.pyplot as plt\n",
    "import seaborn as sns\n",
    "import plotly.express as px\n",
    "from sklearn.model_selection import train_test_split\n",
    "from sklearn.metrics import mean_squared_error, r2_score\n",
    "from statsmodels.tsa.statespace.sarimax import SARIMAX\n",
    "from statsmodels.tsa.stattools import adfuller\n",
    "from sklearn.svm import SVR\n",
    "from sklearn.ensemble import RandomForestRegressor\n",
    "from scipy.stats import linregress\n",
    "from sklearn.linear_model import Ridge\n",
    "from sklearn.linear_model import Lasso\n",
    "from sklearn.ensemble import BaggingRegressor\n",
    "from sklearn.neighbors import KNeighborsRegressor\n",
    "from sklearn.preprocessing import StandardScaler"
   ]
  },
  {
   "cell_type": "markdown",
   "metadata": {
    "id": "ifTG_KZNVCLJ"
   },
   "source": [
    "# Impoprting Data"
   ]
  },
  {
   "cell_type": "code",
   "execution_count": null,
   "metadata": {
    "colab": {
     "base_uri": "https://localhost:8080/",
     "height": 86
    },
    "id": "lLF9tXje5cPf",
    "outputId": "93dbfaa6-77f1-419d-e797-ee272db64373"
   },
   "outputs": [],
   "source": [
    "from google.colab import files\n",
    "files.upload()"
   ]
  },
  {
   "cell_type": "code",
   "execution_count": null,
   "metadata": {
    "id": "LutvXpFI3_aK"
   },
   "outputs": [],
   "source": [
    "!pip install -q kaggle"
   ]
  },
  {
   "cell_type": "code",
   "execution_count": null,
   "metadata": {
    "id": "1lf1396s4mVz"
   },
   "outputs": [],
   "source": [
    "!mkdir ~/.kaggle"
   ]
  },
  {
   "cell_type": "code",
   "execution_count": null,
   "metadata": {
    "id": "sTiRqE7A6BsJ"
   },
   "outputs": [],
   "source": [
    "!cp kaggle.json ~/.kaggle"
   ]
  },
  {
   "cell_type": "code",
   "execution_count": null,
   "metadata": {
    "id": "C49Eya276N0G"
   },
   "outputs": [],
   "source": [
    "!chmod 600 ~/.kaggle/kaggle.json"
   ]
  },
  {
   "cell_type": "code",
   "execution_count": null,
   "metadata": {
    "colab": {
     "base_uri": "https://localhost:8080/"
    },
    "id": "Pa15rwen6Wll",
    "outputId": "4343b250-8caa-498d-ab55-056aca022d67"
   },
   "outputs": [],
   "source": [
    "!kaggle datasets download -d iamsouravbanerjee/cause-of-deaths-around-the-world"
   ]
  },
  {
   "cell_type": "code",
   "execution_count": null,
   "metadata": {
    "colab": {
     "base_uri": "https://localhost:8080/"
    },
    "id": "eEInX_3v6dW-",
    "outputId": "3fe7ea12-aac6-4229-aa4d-abaf387e8eb5"
   },
   "outputs": [],
   "source": [
    "!unzip cause-of-deaths-around-the-world.zip -d datasets"
   ]
  },
  {
   "cell_type": "code",
   "execution_count": null,
   "metadata": {
    "colab": {
     "base_uri": "https://localhost:8080/",
     "height": 284
    },
    "id": "YCT2TVfiKBEk",
    "outputId": "5fb344fc-6d33-4797-a3ab-27aebbb9cce0"
   },
   "outputs": [],
   "source": [
    "df = pd.read_csv(\"/content/datasets/cause_of_deaths.csv\")\n",
    "df.head()"
   ]
  },
  {
   "cell_type": "markdown",
   "metadata": {
    "id": "Wes5iyhLU-cj"
   },
   "source": [
    "# pre processing"
   ]
  },
  {
   "cell_type": "code",
   "execution_count": null,
   "metadata": {
    "colab": {
     "base_uri": "https://localhost:8080/"
    },
    "id": "qKopWZx9KWiv",
    "outputId": "6dbbeffb-fa86-421a-ab74-12cc51b727ab"
   },
   "outputs": [],
   "source": [
    "df.isnull().sum()"
   ]
  },
  {
   "cell_type": "code",
   "execution_count": null,
   "metadata": {
    "colab": {
     "base_uri": "https://localhost:8080/"
    },
    "id": "UadK2gmbKefX",
    "outputId": "0e354a3a-55d5-42da-9db9-ac310bd3b45a"
   },
   "outputs": [],
   "source": [
    "df.info()"
   ]
  },
  {
   "cell_type": "code",
   "execution_count": null,
   "metadata": {
    "colab": {
     "base_uri": "https://localhost:8080/"
    },
    "id": "UsTfrQCMKkDA",
    "outputId": "154d2d04-8342-4eab-e723-286753327364"
   },
   "outputs": [],
   "source": [
    "df.shape"
   ]
  },
  {
   "cell_type": "code",
   "execution_count": null,
   "metadata": {
    "colab": {
     "base_uri": "https://localhost:8080/"
    },
    "id": "Q30tIJLwKpF_",
    "outputId": "4a48c43c-84e4-401e-a706-ad09d8fa9cb1"
   },
   "outputs": [],
   "source": [
    "df['Year'].nunique()"
   ]
  },
  {
   "cell_type": "code",
   "execution_count": null,
   "metadata": {
    "colab": {
     "base_uri": "https://localhost:8080/"
    },
    "id": "4S7Ax16-KwmQ",
    "outputId": "fb929345-8428-4167-9ed2-6a2079e83503"
   },
   "outputs": [],
   "source": [
    "df['Year'].unique()"
   ]
  },
  {
   "cell_type": "code",
   "execution_count": null,
   "metadata": {
    "colab": {
     "base_uri": "https://localhost:8080/"
    },
    "id": "vu_YX3KZTNlQ",
    "outputId": "aab2ecf5-c3e1-4fef-93f5-5e87bf503ac1"
   },
   "outputs": [],
   "source": [
    "# Exclude non-numeric columns before computing correlation\n",
    "numeric_columns = df.select_dtypes(include=['int64']).columns\n",
    "correlation_with_year = df[numeric_columns].corr()['Year']\n",
    "print(correlation_with_year)"
   ]
  },
  {
   "cell_type": "code",
   "execution_count": null,
   "metadata": {
    "colab": {
     "base_uri": "https://localhost:8080/"
    },
    "id": "R-m1L1icK1OU",
    "outputId": "00d81bef-225a-4dee-c559-c3d9533f1b94"
   },
   "outputs": [],
   "source": [
    "df['Country/Territory'].nunique()\n"
   ]
  },
  {
   "cell_type": "code",
   "execution_count": null,
   "metadata": {
    "colab": {
     "base_uri": "https://localhost:8080/"
    },
    "id": "72xeJuk6K4kv",
    "outputId": "6a947401-ca13-44dd-815d-bb80e2f2facb"
   },
   "outputs": [],
   "source": [
    "df['Country/Territory'].value_counts()"
   ]
  },
  {
   "cell_type": "code",
   "execution_count": null,
   "metadata": {
    "id": "frI8EUdSK6h2"
   },
   "outputs": [],
   "source": [
    "cause_of_deaths = ['Meningitis',\n",
    "       'Alzheimer\\'s Disease and Other Dementias', 'Parkinson\\'s Disease',\n",
    "       'Nutritional Deficiencies', 'Malaria', 'Drowning',\n",
    "       'Interpersonal Violence', 'Maternal Disorders', 'HIV/AIDS',\n",
    "       'Drug Use Disorders', 'Tuberculosis', 'Cardiovascular Diseases',\n",
    "       'Lower Respiratory Infections', 'Neonatal Disorders',\n",
    "       'Alcohol Use Disorders', 'Self-harm', 'Exposure to Forces of Nature',\n",
    "       'Diarrheal Diseases', 'Environmental Heat and Cold Exposure',\n",
    "       'Neoplasms', 'Conflict and Terrorism', 'Diabetes Mellitus',\n",
    "       'Chronic Kidney Disease', 'Poisonings', 'Protein-Energy Malnutrition',\n",
    "       'Road Injuries', 'Chronic Respiratory Diseases',\n",
    "       'Cirrhosis and Other Chronic Liver Diseases', 'Digestive Diseases',\n",
    "       'Fire, Heat, and Hot Substances', 'Acute Hepatitis']"
   ]
  },
  {
   "cell_type": "code",
   "execution_count": null,
   "metadata": {
    "id": "GGxtlPH8K_D_"
   },
   "outputs": [],
   "source": [
    "df['Total_no_of_Deaths'] = df[cause_of_deaths].sum(axis=1)"
   ]
  },
  {
   "cell_type": "code",
   "execution_count": null,
   "metadata": {
    "colab": {
     "base_uri": "https://localhost:8080/",
     "height": 379
    },
    "id": "ff1wqZpzLW_L",
    "outputId": "a810b3cf-80eb-4b6b-85bd-8ec6e37888c7"
   },
   "outputs": [],
   "source": [
    "top10_Total_no_of_Deaths = df.sort_values(by='Total_no_of_Deaths',ascending=False)[:10][['Total_no_of_Deaths','Country/Territory']]\n",
    "top10_Total_no_of_Deaths"
   ]
  },
  {
   "cell_type": "code",
   "execution_count": null,
   "metadata": {
    "colab": {
     "base_uri": "https://localhost:8080/",
     "height": 1000
    },
    "id": "IdX5UaqVI7f8",
    "outputId": "14c118a4-c9b7-43d5-d20a-c088d15d6e02"
   },
   "outputs": [],
   "source": [
    "disease_df = df[cause_of_deaths].sum().to_frame().reset_index()\n",
    "disease_df.rename(columns={\"index\": \"Disease\", 0:\"Total cases\"}, inplace=True)\n",
    "disease_df"
   ]
  },
  {
   "cell_type": "code",
   "execution_count": null,
   "metadata": {
    "colab": {
     "base_uri": "https://localhost:8080/",
     "height": 1000
    },
    "id": "vK7rJ8Ysasq4",
    "outputId": "1e9451b4-2879-476f-fe19-56577b36f371"
   },
   "outputs": [],
   "source": [
    "desending = disease_df.sort_values(by=['Total cases'], ascending=False)\n",
    "desending"
   ]
  },
  {
   "cell_type": "code",
   "execution_count": null,
   "metadata": {
    "colab": {
     "base_uri": "https://localhost:8080/",
     "height": 507
    },
    "id": "_gClAJzzIeQV",
    "outputId": "9228c1d8-c146-4816-af25-917d599b635c"
   },
   "outputs": [],
   "source": [
    "df"
   ]
  },
  {
   "cell_type": "code",
   "execution_count": null,
   "metadata": {
    "colab": {
     "base_uri": "https://localhost:8080/",
     "height": 439
    },
    "id": "VfQr6f-ALIBR",
    "outputId": "d64bd7ab-88f6-458b-adb3-4edf621dad24"
   },
   "outputs": [],
   "source": [
    "country_df = df.groupby('Country/Territory')['Total_no_of_Deaths'].sum().sort_values(ascending=False).reset_index()\n",
    "country_df"
   ]
  },
  {
   "cell_type": "code",
   "execution_count": null,
   "metadata": {
    "id": "DykIrsPKLY77"
   },
   "outputs": [],
   "source": [
    "China_Total_no_of_Deaths_df = df[df['Country/Territory']=='China'].sort_values(by='Total_no_of_Deaths',ascending=False)"
   ]
  },
  {
   "cell_type": "code",
   "execution_count": null,
   "metadata": {
    "colab": {
     "base_uri": "https://localhost:8080/",
     "height": 379
    },
    "id": "9GFB0fV_Mf3m",
    "outputId": "34acfe06-d593-4da6-b12a-f317d7aceb33"
   },
   "outputs": [],
   "source": [
    "Top10_deaths = df.groupby('Country/Territory')['Total_no_of_Deaths'].sum().sort_values(ascending=False).head(10).reset_index()\n",
    "Top10_deaths"
   ]
  },
  {
   "cell_type": "markdown",
   "metadata": {
    "id": "XEwzwWE72KHU"
   },
   "source": [
    "# visualization"
   ]
  },
  {
   "cell_type": "code",
   "execution_count": null,
   "metadata": {
    "colab": {
     "base_uri": "https://localhost:8080/",
     "height": 1000
    },
    "id": "DIHKPW82w6MG",
    "outputId": "7e13e477-7364-4584-d6ec-eaf2b327f167"
   },
   "outputs": [],
   "source": [
    "correlation_matrix = df.corr()\n",
    "plt.figure(figsize=(12, 20))\n",
    "sns.heatmap(correlation_matrix, annot=True, cmap='coolwarm', fmt=\".2f\")\n",
    "plt.title(\"Correlation Matrix\")\n",
    "plt.show()"
   ]
  },
  {
   "cell_type": "code",
   "execution_count": null,
   "metadata": {
    "colab": {
     "base_uri": "https://localhost:8080/",
     "height": 999
    },
    "id": "fmcg8zolMA3b",
    "outputId": "6078c2fa-7bbc-4702-ba80-cb3229f5cbe4"
   },
   "outputs": [],
   "source": [
    "plt.figure(figsize=(16,9))\n",
    "\n",
    "sns.barplot(data = Top10_deaths,\n",
    "            x = 'Country/Territory',\n",
    "            y = 'Total_no_of_Deaths',\n",
    "            palette = 'pastel'\n",
    "            )\n",
    "\n",
    "plt.xticks(rotation = 90)\n",
    "plt.xlabel('Country', size = 20)\n",
    "plt.ylabel('Total Number of Deaths(in millions)', size = 20)\n",
    "plt.title('Top 10 Countries with the Highest Number of Deaths', size =20)"
   ]
  },
  {
   "cell_type": "markdown",
   "metadata": {
    "id": "rR-IZlQ02f2d"
   },
   "source": [
    "# 2019 Predicted vs\tActual"
   ]
  },
  {
   "cell_type": "code",
   "execution_count": null,
   "metadata": {
    "id": "B3KJ23uSDL2M"
   },
   "outputs": [],
   "source": [
    "features = ['Year']\n",
    "\n",
    "train_data = df[df['Year'] < 2019]\n",
    "\n",
    "X_train, X_test, y_train, y_test = train_test_split(train_data[features], train_data[cause_of_deaths], test_size=0.2, random_state=42)\n",
    "\n",
    "\n",
    "dfs_KNN = []\n",
    "\n",
    "for target in cause_of_deaths:\n",
    "    model = KNeighborsRegressor()\n",
    "\n",
    "\n",
    "    model.fit(X_train, y_train[target])\n",
    "\n",
    "    X_2019 = pd.DataFrame({'Year': [2019]})\n",
    "    predicted_deaths_2019 = model.predict(X_2019)[0]\n",
    "\n",
    "    y_pred = model.predict(X_test)\n",
    "    mse = mean_squared_error(y_test[target], y_pred)\n",
    "\n",
    "    actual_deaths_2019 = df[(df['Year'] == 2019)][target].values[0]\n",
    "\n",
    "    results_df_KNN = pd.DataFrame({\n",
    "        'Cause': [target],\n",
    "        'Predicted Deaths': [predicted_deaths_2019],\n",
    "        'Actual Deaths': [actual_deaths_2019],\n",
    "        'Mean Squared Error': [mse]\n",
    "    })\n",
    "\n",
    "    dfs_KNN.append(results_df_KNN)\n",
    "\n",
    "results_df_KNN = pd.concat(dfs_KNN, ignore_index=True)"
   ]
  },
  {
   "cell_type": "code",
   "execution_count": null,
   "metadata": {
    "colab": {
     "base_uri": "https://localhost:8080/",
     "height": 204
    },
    "id": "70bAhFzqDQWK",
    "outputId": "49acc9eb-f8d7-485d-8bae-29b0824ef45d"
   },
   "outputs": [],
   "source": [
    "results_df_KNN.head()"
   ]
  },
  {
   "cell_type": "code",
   "execution_count": null,
   "metadata": {
    "id": "fqG6_Q1dmtDr"
   },
   "outputs": [],
   "source": [
    "from sklearn.metrics import accuracy_score"
   ]
  },
  {
   "cell_type": "code",
   "execution_count": null,
   "metadata": {
    "id": "SPzwwymhl7FF"
   },
   "outputs": [],
   "source": [
    "sum_actual=results_df_KNN['Actual Deaths'].sum()"
   ]
  },
  {
   "cell_type": "code",
   "execution_count": null,
   "metadata": {
    "colab": {
     "base_uri": "https://localhost:8080/"
    },
    "id": "eqe-WI17mhPX",
    "outputId": "e3c3dd61-7610-4faf-a1b3-d04c75c7530d"
   },
   "outputs": [],
   "source": [
    "sum_actual"
   ]
  },
  {
   "cell_type": "code",
   "execution_count": null,
   "metadata": {
    "id": "tkkfwB77mTNS"
   },
   "outputs": [],
   "source": [
    "sum_knn=results_df_KNN['Predicted Deaths'].sum()"
   ]
  },
  {
   "cell_type": "code",
   "execution_count": null,
   "metadata": {
    "colab": {
     "base_uri": "https://localhost:8080/"
    },
    "id": "ueE6T0BLmfnx",
    "outputId": "b2da3dc2-2023-4c56-df2e-b7b8f7b52c38"
   },
   "outputs": [],
   "source": [
    "sum_knn"
   ]
  },
  {
   "cell_type": "code",
   "execution_count": null,
   "metadata": {
    "colab": {
     "base_uri": "https://localhost:8080/"
    },
    "id": "RsQ44T3BD92p",
    "outputId": "02d47036-be0d-4949-fd2c-7d6fe144806b"
   },
   "outputs": [],
   "source": [
    "print(results_df_KNN.to_latex())"
   ]
  },
  {
   "cell_type": "code",
   "execution_count": null,
   "metadata": {
    "colab": {
     "base_uri": "https://localhost:8080/",
     "height": 819
    },
    "id": "CSnB7MW1JjA5",
    "outputId": "72966ffc-6bd9-4949-bcdb-6d8fbe0e67fb"
   },
   "outputs": [],
   "source": [
    "plt.figure(figsize=(25,7))\n",
    "plt.plot(results_df_KNN['Cause'], results_df_KNN['Predicted Deaths'],color='blue')\n",
    "plt.plot(results_df_KNN['Cause'], results_df_KNN['Actual Deaths'], color='red')\n",
    "plt.xlabel('Cause of Death')\n",
    "plt.ylabel('Number of Deaths')\n",
    "plt.title('Predicted Deaths vs Actual Deaths using KNN',size='20')\n",
    "plt.legend(['Predicted Deaths','Actual Deaths'],fontsize='25')\n",
    "plt.xticks(rotation = 70)\n",
    "plt.show()"
   ]
  },
  {
   "cell_type": "code",
   "execution_count": null,
   "metadata": {
    "id": "oYbIH_BVNvoh"
   },
   "outputs": [],
   "source": [
    "from sklearn.ensemble import RandomForestRegressor\n",
    "\n",
    "dfs_RandomForest = []\n",
    "\n",
    "for target in cause_of_deaths:\n",
    "    model = RandomForestRegressor(random_state=42)\n",
    "\n",
    "    model.fit(X_train, y_train[target])\n",
    "\n",
    "    X_2019 = pd.DataFrame({'Year': [2019]})\n",
    "    predicted_deaths_2019 = model.predict(X_2019)[0]\n",
    "\n",
    "    y_pred = model.predict(X_test)\n",
    "    mse = mean_squared_error(y_test[target], y_pred)\n",
    "\n",
    "    actual_deaths_2019 = df[(df['Year'] == 2019)][target].values[0]\n",
    "\n",
    "    results_df_RandomForest = pd.DataFrame({\n",
    "        'Cause': [target],\n",
    "        'Predicted Deaths': [predicted_deaths_2019],\n",
    "        'Actual Deaths': [actual_deaths_2019],\n",
    "        'Mean Squared Error': [mse]\n",
    "    })\n",
    "\n",
    "    dfs_RandomForest.append(results_df_RandomForest)\n",
    "\n",
    "results_df_RandomForest = pd.concat(dfs_RandomForest, ignore_index=True)\n"
   ]
  },
  {
   "cell_type": "code",
   "execution_count": null,
   "metadata": {
    "colab": {
     "base_uri": "https://localhost:8080/",
     "height": 204
    },
    "id": "56bXI4MON0yR",
    "outputId": "89f643a5-6d58-4984-cac1-7f92b3153d23"
   },
   "outputs": [],
   "source": [
    "results_df_RandomForest.head()"
   ]
  },
  {
   "cell_type": "code",
   "execution_count": null,
   "metadata": {
    "colab": {
     "base_uri": "https://localhost:8080/"
    },
    "id": "dslkfQ0pF0Dg",
    "outputId": "d7da25fe-5701-412e-8f38-8f680065bacc"
   },
   "outputs": [],
   "source": [
    "print(results_df_RandomForest.to_latex())"
   ]
  },
  {
   "cell_type": "code",
   "execution_count": null,
   "metadata": {
    "colab": {
     "base_uri": "https://localhost:8080/",
     "height": 823
    },
    "id": "4r1vLFVfQsN-",
    "outputId": "702fa1be-f349-4a69-d6a5-4b22a00d61e7"
   },
   "outputs": [],
   "source": [
    "plt.figure(figsize=(25,7))\n",
    "plt.plot(results_df_RandomForest['Cause'], results_df_RandomForest['Predicted Deaths'],color='blue')\n",
    "plt.plot(results_df_RandomForest['Cause'], results_df_RandomForest['Actual Deaths'], color='red')\n",
    "plt.xlabel('Cause of Death ')\n",
    "plt.ylabel('Number of Deaths')\n",
    "plt.title('Predicted Deaths vs Actual Deaths using RandomForest',size='20')\n",
    "plt.legend(['Predicted Deaths','Actual Deaths'],fontsize='25')\n",
    "plt.xticks(rotation = 70)\n",
    "plt.show()"
   ]
  },
  {
   "cell_type": "code",
   "execution_count": null,
   "metadata": {
    "id": "AgOFFNIWAXEO"
   },
   "outputs": [],
   "source": [
    "features = ['Year']\n",
    "\n",
    "train_data = df[df['Year'] < 2019]\n",
    "\n",
    "X_train, X_test, y_train, y_test = train_test_split(train_data[features], train_data[cause_of_deaths], test_size=0.2, random_state=42)\n",
    "\n",
    "\n",
    "dfs_SVR = []\n",
    "\n",
    "for target in cause_of_deaths:\n",
    "    model =  SVR(kernel='linear')\n",
    "\n",
    "    model.fit(X_train, y_train[target])\n",
    "\n",
    "    X_2019 = pd.DataFrame({'Year': [2019]})\n",
    "    predicted_deaths_2019 = model.predict(X_2019)[0]\n",
    "\n",
    "    y_pred = model.predict(X_test)\n",
    "    mse = mean_squared_error(y_test[target], y_pred)\n",
    "\n",
    "    actual_deaths_2019 = df[(df['Year'] == 2019)][target].values[0]\n",
    "\n",
    "    results_df_SVR = pd.DataFrame({\n",
    "        'Cause': [target],\n",
    "        'Predicted Deaths': [predicted_deaths_2019],\n",
    "        'Actual Deaths': [actual_deaths_2019],\n",
    "        'Mean Squared Error': [mse]\n",
    "    })\n",
    "\n",
    "    dfs_SVR.append(results_df_SVR)\n",
    "\n",
    "results_df_SVR = pd.concat(dfs_SVR, ignore_index=True)"
   ]
  },
  {
   "cell_type": "code",
   "execution_count": null,
   "metadata": {
    "colab": {
     "base_uri": "https://localhost:8080/",
     "height": 204
    },
    "id": "18dglkPrAWnF",
    "outputId": "aee4a20b-7076-4c94-ab2d-a2586ceecb96"
   },
   "outputs": [],
   "source": [
    "results_df_SVR.head()"
   ]
  },
  {
   "cell_type": "code",
   "execution_count": null,
   "metadata": {
    "colab": {
     "base_uri": "https://localhost:8080/"
    },
    "id": "fjaHuBQMGB90",
    "outputId": "cf32127f-78e0-4e73-d46b-c75486c79eaf"
   },
   "outputs": [],
   "source": [
    "print(results_df_SVR.to_latex())"
   ]
  },
  {
   "cell_type": "code",
   "execution_count": null,
   "metadata": {
    "colab": {
     "base_uri": "https://localhost:8080/",
     "height": 823
    },
    "id": "Px6vAe2bHn1A",
    "outputId": "75d0b321-6cc1-441c-cb72-77871745a550"
   },
   "outputs": [],
   "source": [
    "plt.figure(figsize=(25,7))\n",
    "plt.plot(results_df_SVR['Cause'], results_df_SVR['Predicted Deaths'],color='blue')\n",
    "plt.plot(results_df_SVR['Cause'], results_df_SVR['Actual Deaths'], color='red')\n",
    "plt.xlabel('Cause of Death ')\n",
    "plt.ylabel('Number of Deaths')\n",
    "plt.title('Predicted Deaths vs Actual Deaths using SVR',size='20')\n",
    "plt.legend(['Predicted Deaths','Actual Deaths'],fontsize='25')\n",
    "plt.xticks(rotation = 70)\n",
    "plt.show()"
   ]
  },
  {
   "cell_type": "code",
   "execution_count": null,
   "metadata": {
    "id": "Ay9B89159nee"
   },
   "outputs": [],
   "source": [
    "features = ['Year']\n",
    "\n",
    "train_data = df[df['Year'] < 2019]\n",
    "\n",
    "X_train, X_test, y_train, y_test = train_test_split(train_data[features], train_data[cause_of_deaths], test_size=0.2, random_state=42)\n",
    "\n",
    "\n",
    "dfs_Bagging = []\n",
    "\n",
    "for target in cause_of_deaths:\n",
    "    model =  BaggingRegressor(random_state=42)\n",
    "\n",
    "    model.fit(X_train, y_train[target])\n",
    "\n",
    "    X_2019 = pd.DataFrame({'Year': [2019]})\n",
    "    predicted_deaths_2019 = model.predict(X_2019)[0]\n",
    "\n",
    "    y_pred = model.predict(X_test)\n",
    "    mse = mean_squared_error(y_test[target], y_pred)\n",
    "\n",
    "    actual_deaths_2019 = df[(df['Year'] == 2019)][target].values[0]\n",
    "\n",
    "    results_df_Bagging = pd.DataFrame({\n",
    "        'Cause': [target],\n",
    "        'Predicted Deaths': [predicted_deaths_2019],\n",
    "        'Actual Deaths': [actual_deaths_2019],\n",
    "        'Mean Squared Error': [mse]\n",
    "    })\n",
    "\n",
    "    dfs_Bagging.append(results_df_Bagging)\n",
    "\n",
    "results_df_Bagging = pd.concat(dfs_Bagging, ignore_index=True)"
   ]
  },
  {
   "cell_type": "code",
   "execution_count": null,
   "metadata": {
    "colab": {
     "base_uri": "https://localhost:8080/",
     "height": 204
    },
    "id": "22ThvuM69nbe",
    "outputId": "c1fe8c0e-abf4-428e-aae0-5d84737dd4d3"
   },
   "outputs": [],
   "source": [
    "results_df_Bagging.head()"
   ]
  },
  {
   "cell_type": "code",
   "execution_count": null,
   "metadata": {
    "colab": {
     "base_uri": "https://localhost:8080/"
    },
    "id": "7JewUDRSGUjs",
    "outputId": "085e59d0-76e9-4a60-8b72-4748538d7fc6"
   },
   "outputs": [],
   "source": [
    "print(results_df_Bagging.to_latex())"
   ]
  },
  {
   "cell_type": "code",
   "execution_count": null,
   "metadata": {
    "colab": {
     "base_uri": "https://localhost:8080/",
     "height": 823
    },
    "id": "69rwPJ_SJ83w",
    "outputId": "76556fe1-b917-4101-8938-ccd5582f3717"
   },
   "outputs": [],
   "source": [
    "plt.figure(figsize=(25,7))\n",
    "plt.plot(results_df_Bagging['Cause'], results_df_Bagging['Predicted Deaths'],color='blue')\n",
    "plt.plot(results_df_Bagging['Cause'], results_df_Bagging['Actual Deaths'], color='red')\n",
    "plt.xlabel('Cause of Death ')\n",
    "plt.ylabel('Number of Deaths')\n",
    "plt.title('Predicted Deaths vs Actual Deaths using Bagging',size='20')\n",
    "plt.legend(['Predicted Deaths','Actual Deaths'],fontsize='25')\n",
    "plt.xticks(rotation = 70)\n",
    "plt.show()"
   ]
  },
  {
   "cell_type": "code",
   "execution_count": null,
   "metadata": {
    "id": "-W8vXKu8Bekl"
   },
   "outputs": [],
   "source": [
    "features = ['Year']\n",
    "\n",
    "train_data = df[df['Year'] < 2019]\n",
    "\n",
    "X_train, X_test, y_train, y_test = train_test_split(train_data[features], train_data[cause_of_deaths], test_size=0.2, random_state=42)\n",
    "\n",
    "\n",
    "dfs_Ridge = []\n",
    "\n",
    "for target in cause_of_deaths:\n",
    "    model = Ridge(alpha=1.0)\n",
    "\n",
    "    model.fit(X_train, y_train[target])\n",
    "\n",
    "    X_2019 = pd.DataFrame({'Year': [2019]})\n",
    "    predicted_deaths_2019 = model.predict(X_2019)[0]\n",
    "\n",
    "    y_pred = model.predict(X_test)\n",
    "    mse = mean_squared_error(y_test[target], y_pred)\n",
    "\n",
    "    actual_deaths_2019 = df[(df['Year'] == 2019)][target].values[0]\n",
    "\n",
    "    results_df_Ridge = pd.DataFrame({\n",
    "        'Cause': [target],\n",
    "        'Predicted Deaths': [predicted_deaths_2019],\n",
    "        'Actual Deaths': [actual_deaths_2019],\n",
    "        'Mean Squared Error': [mse]\n",
    "    })\n",
    "\n",
    "    dfs_Ridge.append(results_df_Ridge)\n",
    "\n",
    "results_df_Ridge = pd.concat(dfs_Ridge, ignore_index=True)"
   ]
  },
  {
   "cell_type": "code",
   "execution_count": null,
   "metadata": {
    "colab": {
     "base_uri": "https://localhost:8080/",
     "height": 204
    },
    "id": "ztCCSePSBxRp",
    "outputId": "47b12b57-0c27-46ad-a33d-77830a85cbaf"
   },
   "outputs": [],
   "source": [
    "results_df_Ridge.head()"
   ]
  },
  {
   "cell_type": "code",
   "execution_count": null,
   "metadata": {
    "colab": {
     "base_uri": "https://localhost:8080/"
    },
    "id": "e0qwy1BcGiGD",
    "outputId": "d53a3df8-d9f4-4678-d939-f8484acb8f1e"
   },
   "outputs": [],
   "source": [
    "print(results_df_Ridge.to_latex())"
   ]
  },
  {
   "cell_type": "code",
   "execution_count": null,
   "metadata": {
    "colab": {
     "base_uri": "https://localhost:8080/",
     "height": 823
    },
    "id": "2sP-WJX0KH8L",
    "outputId": "97a8349a-40b2-45a5-8925-0084cb9ff1e7"
   },
   "outputs": [],
   "source": [
    "plt.figure(figsize=(25,7))\n",
    "plt.plot(results_df_Ridge['Cause'], results_df_Ridge['Predicted Deaths'],color='blue')\n",
    "plt.plot(results_df_Ridge['Cause'], results_df_Ridge['Actual Deaths'], color='red')\n",
    "plt.xlabel('Cause of Death ')\n",
    "plt.ylabel('Number of Deaths')\n",
    "plt.title('Predicted Deaths vs Actual Deaths using Ridge',size='20')\n",
    "plt.legend(['Predicted Deaths','Actual Deaths'],fontsize='25')\n",
    "plt.xticks(rotation = 70)\n",
    "plt.show()"
   ]
  },
  {
   "cell_type": "code",
   "execution_count": null,
   "metadata": {
    "id": "15YxN5er5mqS"
   },
   "outputs": [],
   "source": [
    "features = ['Year']\n",
    "\n",
    "train_data = df[df['Year'] < 2019]\n",
    "\n",
    "X_train, X_test, y_train, y_test = train_test_split(train_data[features], train_data[cause_of_deaths], test_size=0.2, random_state=42)\n",
    "\n",
    "\n",
    "dfs_Lasso = []\n",
    "\n",
    "for target in cause_of_deaths:\n",
    "    model = Lasso(alpha=1.0)\n",
    "\n",
    "    model.fit(X_train, y_train[target])\n",
    "\n",
    "    X_2019 = pd.DataFrame({'Year': [2019]})\n",
    "    predicted_deaths_2019 = model.predict(X_2019)[0]\n",
    "\n",
    "    y_pred = model.predict(X_test)\n",
    "    mse = mean_squared_error(y_test[target], y_pred)\n",
    "\n",
    "    actual_deaths_2019 = df[(df['Year'] == 2019)][target].values[0]\n",
    "\n",
    "    results_df_Lasso = pd.DataFrame({\n",
    "        'Cause': [target],\n",
    "        'Predicted Deaths': [predicted_deaths_2019],\n",
    "        'Actual Deaths': [actual_deaths_2019],\n",
    "        'Mean Squared Error': [mse]\n",
    "    })\n",
    "\n",
    "    dfs_Lasso.append(results_df_Lasso)\n",
    "\n",
    "results_df_Lasso = pd.concat(dfs_Lasso, ignore_index=True)"
   ]
  },
  {
   "cell_type": "code",
   "execution_count": null,
   "metadata": {
    "colab": {
     "base_uri": "https://localhost:8080/",
     "height": 204
    },
    "id": "r4AyH573569J",
    "outputId": "1e987175-dd25-4de9-f606-3b054bd32d7b"
   },
   "outputs": [],
   "source": [
    "results_df_Lasso.head()"
   ]
  },
  {
   "cell_type": "code",
   "execution_count": null,
   "metadata": {
    "colab": {
     "base_uri": "https://localhost:8080/"
    },
    "id": "0ZWR-0MbGyri",
    "outputId": "e1c04c4c-8197-4d87-a2b7-bab350935e96"
   },
   "outputs": [],
   "source": [
    "print(results_df_Lasso.to_latex())"
   ]
  },
  {
   "cell_type": "code",
   "execution_count": null,
   "metadata": {
    "colab": {
     "base_uri": "https://localhost:8080/",
     "height": 823
    },
    "id": "nvuqzq04KR01",
    "outputId": "9bc45de1-2547-4c34-fe04-0810d097d361"
   },
   "outputs": [],
   "source": [
    "plt.figure(figsize=(25,7))\n",
    "plt.plot(results_df_Lasso['Cause'], results_df_Lasso['Predicted Deaths'],color='blue')\n",
    "plt.plot(results_df_Lasso['Cause'], results_df_Lasso['Actual Deaths'], color='red')\n",
    "plt.xlabel('Cause of Death ')\n",
    "plt.ylabel('Number of Deaths')\n",
    "plt.title('Predicted Deaths vs Actual Deaths using Lasso',size='20')\n",
    "plt.legend(['Predicted Deaths','Actual Deaths'],fontsize='25')\n",
    "plt.xticks(rotation = 70)\n",
    "plt.show()"
   ]
  },
  {
   "cell_type": "markdown",
   "metadata": {
    "id": "dNVTtRG366of"
   },
   "source": [
    "# 2020 pridiction for each cause\n"
   ]
  },
  {
   "cell_type": "code",
   "execution_count": null,
   "metadata": {
    "id": "43D6-W-n6-tu"
   },
   "outputs": [],
   "source": [
    "features = ['Year']\n",
    "\n",
    "train_data = df[df['Year'] < 2019]\n",
    "\n",
    "dfs1_KNN = []\n",
    "\n",
    "for target in cause_of_deaths:\n",
    "    model = KNeighborsRegressor()\n",
    "    model.fit(train_data[features], train_data[target])\n",
    "\n",
    "    X_2020 = pd.DataFrame({'Year': [2020]})\n",
    "\n",
    "    predicted_deaths_2020 = model.predict(X_2020)[0]\n",
    "\n",
    "    results_df_KNN = pd.DataFrame({\n",
    "        'Cause': [target],\n",
    "        '2020 pridiction using KNN': [predicted_deaths_2020]\n",
    "    })\n",
    "\n",
    "    dfs1_KNN.append(results_df_KNN)\n",
    "\n",
    "results_df1_KNN = pd.concat(dfs1_KNN, ignore_index=True)"
   ]
  },
  {
   "cell_type": "code",
   "execution_count": null,
   "metadata": {
    "colab": {
     "base_uri": "https://localhost:8080/"
    },
    "id": "IcYqhUAy7Q1X",
    "outputId": "3dfd39ce-02ef-45af-db8b-0fc81a3e04e8"
   },
   "outputs": [],
   "source": [
    "print(results_df1_KNN)"
   ]
  },
  {
   "cell_type": "code",
   "execution_count": null,
   "metadata": {
    "colab": {
     "base_uri": "https://localhost:8080/",
     "height": 607
    },
    "id": "ma-RGxC5AyX6",
    "outputId": "9b8ea62f-2f61-4aeb-ed5e-e2a40e8c1045"
   },
   "outputs": [],
   "source": [
    "plt.figure(figsize=(12, 6))\n",
    "plt.bar(results_df1_KNN['Cause'], results_df1_KNN['2020 pridiction using KNN'], label='Predicted Deaths 2020')\n",
    "plt.xlabel('Cause of Death')\n",
    "plt.ylabel('Number of Deaths')\n",
    "plt.title('Predicted Deaths for Each Cause in 2020 using KNN')\n",
    "plt.xticks(rotation=45, ha='right')\n",
    "plt.legend()\n",
    "plt.tight_layout()\n",
    "plt.show()"
   ]
  },
  {
   "cell_type": "code",
   "execution_count": null,
   "metadata": {
    "id": "oUcpQex08S2e"
   },
   "outputs": [],
   "source": [
    "features = ['Year']\n",
    "\n",
    "train_data = df[df['Year'] <= 2019]\n",
    "\n",
    "dfs1_RandomForest = []\n",
    "\n",
    "for target in cause_of_deaths:\n",
    "    model = RandomForestRegressor(random_state=42)\n",
    "    model.fit(train_data[features], train_data[target])\n",
    "\n",
    "    X_2020 = pd.DataFrame({'Year': [2020]})\n",
    "\n",
    "    predicted_deaths_2020 = model.predict(X_2020)[0]\n",
    "\n",
    "    results_df_RandomForest = pd.DataFrame({\n",
    "        'Cause': [target],\n",
    "        '2020 pridiction using RandomForest': [predicted_deaths_2020]\n",
    "    })\n",
    "\n",
    "    dfs1_RandomForest.append(results_df_RandomForest)\n",
    "\n",
    "results_df1_RandomForest = pd.concat(dfs1_RandomForest, ignore_index=True)"
   ]
  },
  {
   "cell_type": "code",
   "execution_count": null,
   "metadata": {
    "colab": {
     "base_uri": "https://localhost:8080/"
    },
    "id": "2-8bZAbr8hKh",
    "outputId": "1de46910-d589-4cd3-ddf7-f59bae61d207"
   },
   "outputs": [],
   "source": [
    "print(results_df1_RandomForest)"
   ]
  },
  {
   "cell_type": "code",
   "execution_count": null,
   "metadata": {
    "colab": {
     "base_uri": "https://localhost:8080/",
     "height": 486
    },
    "id": "4R28fA1ABPc0",
    "outputId": "14b966af-d849-45ae-e606-7b55a74af25b"
   },
   "outputs": [],
   "source": [
    "plt.figure(figsize=(12, 6))\n",
    "plt.bar(results_df1_RandomForest['Cause'], results_df1_RandomForest['2020 using RandomForest'], label='Predicted Deaths 2020')\n",
    "plt.xlabel('Cause of Death')\n",
    "plt.ylabel('Number of Deaths')\n",
    "plt.title('Predicted Deaths for Each Cause in 2020 using Random Forest')\n",
    "plt.xticks(rotation=45, ha='right')\n",
    "plt.legend()\n",
    "plt.tight_layout()\n",
    "plt.show()"
   ]
  },
  {
   "cell_type": "code",
   "execution_count": null,
   "metadata": {
    "id": "KkG18rx58xXl"
   },
   "outputs": [],
   "source": [
    "features = ['Year']\n",
    "\n",
    "train_data = df[df['Year'] <= 2019]\n",
    "\n",
    "dfs1_SVR = []\n",
    "\n",
    "for target in cause_of_deaths:\n",
    "    model = SVR(kernel='linear')\n",
    "    model.fit(train_data[features], train_data[target])\n",
    "\n",
    "    X_2020 = pd.DataFrame({'Year': [2020]})\n",
    "\n",
    "    predicted_deaths_2020 = model.predict(X_2020)[0]\n",
    "\n",
    "    results_df_SVR = pd.DataFrame({\n",
    "        'Cause': [target],\n",
    "        '2020 pridiction using SVR': [predicted_deaths_2020]\n",
    "    })\n",
    "\n",
    "    dfs1_SVR.append(results_df_SVR)\n",
    "\n",
    "results_df1_SVR = pd.concat(dfs1_SVR, ignore_index=True)"
   ]
  },
  {
   "cell_type": "code",
   "execution_count": null,
   "metadata": {
    "colab": {
     "base_uri": "https://localhost:8080/"
    },
    "id": "yMgUV94F8x51",
    "outputId": "57be7854-c540-4ff8-e45d-8b6d02217b2a"
   },
   "outputs": [],
   "source": [
    "print(results_df1_SVR)"
   ]
  },
  {
   "cell_type": "code",
   "execution_count": null,
   "metadata": {
    "colab": {
     "base_uri": "https://localhost:8080/",
     "height": 607
    },
    "id": "vy7BQd5vB7AJ",
    "outputId": "33500f24-73e0-485d-ab4f-0bdc8c958d4d"
   },
   "outputs": [],
   "source": [
    "plt.figure(figsize=(12, 6))\n",
    "plt.bar(results_df1_SVR['Cause'], results_df1_SVR['2020 pridiction using SVR'], label='Predicted Deaths 2020')\n",
    "plt.xlabel('Cause of Death')\n",
    "plt.ylabel('Number of Deaths')\n",
    "plt.title('Predicted Deaths for Each Cause in 2020 using SVR')\n",
    "plt.xticks(rotation=45, ha='right')\n",
    "plt.legend()\n",
    "plt.tight_layout()\n",
    "plt.show()"
   ]
  },
  {
   "cell_type": "code",
   "execution_count": null,
   "metadata": {
    "id": "14_e-LP3-e99"
   },
   "outputs": [],
   "source": [
    "features = ['Year']\n",
    "\n",
    "train_data = df[df['Year'] <= 2019]\n",
    "\n",
    "dfs1_Bagging = []\n",
    "\n",
    "for target in cause_of_deaths:\n",
    "    model = BaggingRegressor(random_state=42)\n",
    "    model.fit(train_data[features], train_data[target])\n",
    "\n",
    "    X_2020 = pd.DataFrame({'Year': [2020]})\n",
    "\n",
    "    predicted_deaths_2020 = model.predict(X_2020)[0]\n",
    "\n",
    "    results_df_Bagging = pd.DataFrame({\n",
    "        'Cause': [target],\n",
    "        '2020 pridiction using Bagging': [predicted_deaths_2020]\n",
    "    })\n",
    "\n",
    "    dfs1_Bagging.append(results_df_Bagging)\n",
    "\n",
    "results_df1_Bagging = pd.concat(dfs1_Bagging, ignore_index=True)"
   ]
  },
  {
   "cell_type": "code",
   "execution_count": null,
   "metadata": {
    "colab": {
     "base_uri": "https://localhost:8080/"
    },
    "id": "9LOteWq1-s6c",
    "outputId": "dff66503-1d3e-49e3-cdd7-297497bd110c"
   },
   "outputs": [],
   "source": [
    "print(results_df1_Bagging)"
   ]
  },
  {
   "cell_type": "code",
   "execution_count": null,
   "metadata": {
    "colab": {
     "base_uri": "https://localhost:8080/",
     "height": 607
    },
    "id": "GY-gDqdlCL6L",
    "outputId": "a38d5c25-b46b-4107-95f4-ae23634a80cc"
   },
   "outputs": [],
   "source": [
    "plt.figure(figsize=(12, 6))\n",
    "plt.bar(results_df1_Bagging['Cause'], results_df1_Bagging['2020 pridiction using Bagging'], label='Predicted Deaths 2020')\n",
    "plt.xlabel('Cause of Death')\n",
    "plt.ylabel('Number of Deaths')\n",
    "plt.title('Predicted Deaths for Each Cause in 2020 using Bagging')\n",
    "plt.xticks(rotation=45, ha='right')\n",
    "plt.legend()\n",
    "plt.tight_layout()\n",
    "plt.show()"
   ]
  },
  {
   "cell_type": "code",
   "execution_count": null,
   "metadata": {
    "id": "gfQBheHp-8BT"
   },
   "outputs": [],
   "source": [
    "features = ['Year']\n",
    "\n",
    "train_data = df[df['Year'] <= 2019]\n",
    "\n",
    "dfs1_Ridge = []\n",
    "\n",
    "for target in cause_of_deaths:\n",
    "    model = Ridge(alpha=1.0)\n",
    "    model.fit(train_data[features], train_data[target])\n",
    "\n",
    "    X_2020 = pd.DataFrame({'Year': [2020]})\n",
    "\n",
    "    predicted_deaths_2020 = model.predict(X_2020)[0]\n",
    "\n",
    "    results_df_Ridge = pd.DataFrame({\n",
    "        'Cause': [target],\n",
    "        '2020 pridiction using Ridge': [predicted_deaths_2020]\n",
    "    })\n",
    "\n",
    "    dfs1_Ridge.append(results_df_Ridge)\n",
    "\n",
    "results_df1_Ridge = pd.concat(dfs1_Ridge, ignore_index=True)"
   ]
  },
  {
   "cell_type": "code",
   "execution_count": null,
   "metadata": {
    "colab": {
     "base_uri": "https://localhost:8080/"
    },
    "id": "NErzA-8D_-9D",
    "outputId": "3a6861a1-8ecc-44ce-f226-6a7e7424bfe3"
   },
   "outputs": [],
   "source": [
    "print(results_df1_Ridge)"
   ]
  },
  {
   "cell_type": "code",
   "execution_count": null,
   "metadata": {
    "colab": {
     "base_uri": "https://localhost:8080/",
     "height": 607
    },
    "id": "iP_UnbZBCb6p",
    "outputId": "3ffc7a5e-b34a-469a-95c9-b184b8a17f83"
   },
   "outputs": [],
   "source": [
    "plt.figure(figsize=(12, 6))\n",
    "plt.bar(results_df1_Ridge['Cause'], results_df1_Ridge['2020 pridiction using Ridge'], label='Predicted Deaths 2020')\n",
    "plt.xlabel('Cause of Death')\n",
    "plt.ylabel('Number of Deaths')\n",
    "plt.title('Predicted Deaths for Each Cause in 2020 using Ridge')\n",
    "plt.xticks(rotation=45, ha='right')\n",
    "plt.legend()\n",
    "plt.tight_layout()\n",
    "plt.show()"
   ]
  },
  {
   "cell_type": "code",
   "execution_count": null,
   "metadata": {
    "id": "aWdyWKp0AXQS"
   },
   "outputs": [],
   "source": [
    "features = ['Year']\n",
    "\n",
    "train_data = df[df['Year'] <= 2019]\n",
    "\n",
    "dfs1_Lasso = []\n",
    "\n",
    "for target in cause_of_deaths:\n",
    "    model = Lasso(alpha=1.0)\n",
    "    model.fit(train_data[features], train_data[target])\n",
    "\n",
    "    X_2020 = pd.DataFrame({'Year': [2020]})\n",
    "\n",
    "    predicted_deaths_2020 = model.predict(X_2020)[0]\n",
    "\n",
    "    results_df_Lasso = pd.DataFrame({\n",
    "        'Cause': [target],\n",
    "        '2020 pridiction using Lasso': [predicted_deaths_2020]\n",
    "    })\n",
    "\n",
    "    dfs1_Lasso.append(results_df_Lasso)\n",
    "\n",
    "results_df1_Lasso = pd.concat(dfs1_Lasso, ignore_index=True)"
   ]
  },
  {
   "cell_type": "code",
   "execution_count": null,
   "metadata": {
    "colab": {
     "base_uri": "https://localhost:8080/"
    },
    "id": "H1uExJsWAXNj",
    "outputId": "943a9756-deaf-4755-b95c-9ee72edd1082"
   },
   "outputs": [],
   "source": [
    "print(results_df1_Lasso)"
   ]
  },
  {
   "cell_type": "code",
   "execution_count": null,
   "metadata": {
    "colab": {
     "base_uri": "https://localhost:8080/",
     "height": 607
    },
    "id": "6Jbrksm6CxzI",
    "outputId": "d9198907-fca3-4f54-fad6-5414d661f026"
   },
   "outputs": [],
   "source": [
    "plt.figure(figsize=(12, 6))\n",
    "plt.bar(results_df1_Lasso['Cause'], results_df1_Lasso['2020 pridiction using Lasso'], label='Predicted Deaths 2020')\n",
    "plt.xlabel('Cause of Death')\n",
    "plt.ylabel('Number of Deaths')\n",
    "plt.title('Predicted Deaths for Each Cause in 2020 using Lasso')\n",
    "plt.xticks(rotation=45, ha='right')\n",
    "plt.legend()\n",
    "plt.tight_layout()\n",
    "plt.show()"
   ]
  },
  {
   "cell_type": "code",
   "execution_count": null,
   "metadata": {
    "colab": {
     "base_uri": "https://localhost:8080/",
     "height": 173
    },
    "id": "ucapZmeeDRqM",
    "outputId": "c31c1adb-371d-4ff0-f678-e345bd3eb45b"
   },
   "outputs": [],
   "source": [
    "all_results_dfs = [results_df1_KNN, results_df1_RandomForest, results_df1_SVR, results_df1_Bagging, results_df1_Ridge, results_df1_Lasso]\n",
    "\n",
    "combined_results_df = pd.concat(all_results_dfs, axis=1)"
   ]
  },
  {
   "cell_type": "code",
   "execution_count": null,
   "metadata": {
    "id": "cQ8ot7dxFqOf"
   },
   "outputs": [],
   "source": [
    "combined_results_df = pd.DataFrame({'Cause': results_df1_KNN['Cause']})\n",
    "\n",
    "combined_results_df['2020 pridiction using KNN'] = results_df1_KNN['2020 pridiction using KNN']\n",
    "combined_results_df['2020 pridiction using RandomForest'] = results_df1_RandomForest['2020 pridiction using RandomForest']\n",
    "combined_results_df['2020 pridiction using SVR'] = results_df1_SVR['2020 pridiction using SVR']\n",
    "combined_results_df['2020 pridiction using Bagging'] = results_df1_Bagging['2020 pridiction using Bagging']\n",
    "combined_results_df['2020 pridiction using Ridge'] = results_df1_Ridge['2020 pridiction using Ridge']\n",
    "combined_results_df['2020 pridiction using Lasso'] = results_df1_Lasso['2020 pridiction using Lasso']\n",
    "\n",
    "print(combined_results_df)"
   ]
  },
  {
   "cell_type": "code",
   "execution_count": null,
   "metadata": {
    "id": "7WUCZfR0F4AG"
   },
   "outputs": [],
   "source": [
    "combined_results_df.to_csv('combined_results.csv', index=False)"
   ]
  },
  {
   "cell_type": "code",
   "execution_count": null,
   "metadata": {
    "id": "1_1tPztZF5yP"
   },
   "outputs": [],
   "source": [
    "df2=pd.read_csv('combined_results.csv',sep=\",\")"
   ]
  },
  {
   "cell_type": "code",
   "execution_count": null,
   "metadata": {
    "id": "TzZ35I2uGEa3"
   },
   "outputs": [],
   "source": [
    "df2"
   ]
  },
  {
   "cell_type": "code",
   "execution_count": null,
   "metadata": {
    "id": "b_F08xnuGbEO"
   },
   "outputs": [],
   "source": [
    "plt.figure(figsize=(10,7))\n",
    "models = ['KNN', 'RandomForest', 'SVR', 'Bagging', 'Ridge', 'Lasso']\n",
    "\n",
    "bar_width = 0.15\n",
    "bar_positions = np.arange(len(df2['Cause']))\n",
    "\n",
    "for i, model in enumerate(models):\n",
    "    column_name = f'2020 pridiction using {model}'\n",
    "    plt.bar(bar_positions + i * bar_width, df2[column_name], label=model, width=bar_width)\n",
    "\n",
    "plt.xlabel('Cause of Death')\n",
    "plt.ylabel('Number of Deaths')\n",
    "plt.title('Predicted Deaths for Each Cause in 2020 from Different Models')\n",
    "plt.xticks(bar_positions + (len(models) / 2) * bar_width, df2['Cause'], rotation=45, ha='right')\n",
    "plt.legend()\n",
    "plt.tight_layout()\n",
    "plt.show()"
   ]
  },
  {
   "cell_type": "code",
   "execution_count": null,
   "metadata": {
    "id": "L68fxA2rHXTu"
   },
   "outputs": [],
   "source": [
    "latex_table = df2.to_latex(index=False)\n",
    "print(latex_table)\n"
   ]
  },
  {
   "cell_type": "markdown",
   "metadata": {
    "id": "g9eNex8X_8W_"
   },
   "source": [
    "# total death in 2020 pridiction\n",
    "\n"
   ]
  },
  {
   "cell_type": "code",
   "execution_count": null,
   "metadata": {
    "id": "66S_b10m4Xfy"
   },
   "outputs": [],
   "source": [
    "features = ['Year']\n",
    "\n",
    "train_data = df[df['Year'] < 2019]\n",
    "\n",
    "X_train, X_test, y_train, y_test = train_test_split(train_data[features], train_data[cause_of_deaths], test_size=0.2, random_state=42)\n",
    "\n",
    "\n",
    "dfs_Ridge = []\n",
    "\n",
    "for target in cause_of_deaths:\n",
    "    model = Ridge(alpha=1.0)\n",
    "\n",
    "    model.fit(X_train, y_train[target])\n",
    "\n",
    "    X_2019 = pd.DataFrame({'Year': [2019]})\n",
    "    predicted_deaths_2019 = model.predict(X_2019)[0]\n",
    "\n",
    "    y_pred = model.predict(X_test)\n",
    "    mse = mean_squared_error(y_test[target], y_pred)\n",
    "\n",
    "    actual_deaths_2019 = df[(df['Year'] == 2019)][target].values[0]\n",
    "\n",
    "    results_df_Ridge = pd.DataFrame({\n",
    "        'Cause': [target],\n",
    "        'Predicted Deaths': [predicted_deaths_2019],\n",
    "        'Actual Deaths': [actual_deaths_2019],\n",
    "        'Mean Squared Error': [mse]\n",
    "    })\n",
    "\n",
    "    dfs_Ridge.append(results_df_Ridge)\n",
    "\n",
    "results_df_Ridge = pd.concat(dfs_Ridge, ignore_index=True)"
   ]
  },
  {
   "cell_type": "code",
   "execution_count": null,
   "metadata": {
    "colab": {
     "base_uri": "https://localhost:8080/",
     "height": 204
    },
    "id": "dXENYewN2sts",
    "outputId": "4df2828c-fbf9-40f7-ae65-fdb7d080cfd4"
   },
   "outputs": [],
   "source": [
    "results_df_Ridge.head()"
   ]
  },
  {
   "cell_type": "code",
   "execution_count": null,
   "metadata": {
    "colab": {
     "base_uri": "https://localhost:8080/",
     "height": 564
    },
    "id": "Ryg01KzdxRiX",
    "outputId": "cc16bba0-9407-45f5-83ac-eb12f81c9df9"
   },
   "outputs": [],
   "source": [
    "plt.figure(figsize=(12, 6))\n",
    "total_deaths_by_year = df.groupby('Year')['Total_no_of_Deaths'].sum()\n",
    "total_deaths_by_year.plot(marker='o')\n",
    "plt.title('Total Number of Deaths Over the Years')\n",
    "plt.xlabel('Year')\n",
    "plt.ylabel('Total Number of Deaths')\n",
    "plt.show()"
   ]
  },
  {
   "cell_type": "code",
   "execution_count": null,
   "metadata": {
    "colab": {
     "base_uri": "https://localhost:8080/",
     "height": 598
    },
    "id": "7n_YTnxR8e-d",
    "outputId": "bf6bf07d-47b0-4dca-b81e-1fd59e8f2588"
   },
   "outputs": [],
   "source": [
    "time_series_data = df[['Year', 'Total_no_of_Deaths']]\n",
    "time_series_data = time_series_data.groupby('Year')['Total_no_of_Deaths'].sum().reset_index()\n",
    "\n",
    "slope, intercept, r_value, p_value, std_err = linregress(time_series_data['Year'], time_series_data['Total_no_of_Deaths'])\n",
    "\n",
    "trend_line = intercept + slope * time_series_data['Year']\n",
    "\n",
    "plt.figure(figsize=(12, 6))\n",
    "plt.scatter(time_series_data['Year'], time_series_data['Total_no_of_Deaths'], label='Actual Data')\n",
    "plt.plot(time_series_data['Year'], trend_line, color='red', label='Trend Line')\n",
    "plt.title('Time Series Trend Analysis')\n",
    "plt.xlabel('Year')\n",
    "plt.ylabel('Total Number of Deaths')\n",
    "plt.legend()\n",
    "plt.show()\n",
    "\n",
    "print(f'Trend Slope: {slope}')\n",
    "print(f'R-squared: {r_value**2}')"
   ]
  },
  {
   "cell_type": "code",
   "execution_count": null,
   "metadata": {
    "colab": {
     "base_uri": "https://localhost:8080/"
    },
    "id": "-XxU9MFH8nLF",
    "outputId": "04962d59-45e3-4f9d-e1ff-ab27558f7c2b"
   },
   "outputs": [],
   "source": [
    "year_2020_prediction_trend_analysis = intercept + slope * 2020\n",
    "print(f'Predicted number of deaths for 2020 using trend analysis: {year_2020_prediction_trend_analysis}')"
   ]
  },
  {
   "cell_type": "code",
   "execution_count": null,
   "metadata": {
    "colab": {
     "base_uri": "https://localhost:8080/",
     "height": 1000
    },
    "id": "dmbQ6dfP0Iw8",
    "outputId": "bd3ba49c-2afa-4ded-a3af-64222cde93a9"
   },
   "outputs": [],
   "source": [
    "time_series_data = df[['Year', 'Total_no_of_Deaths']]\n",
    "time_series_data = time_series_data.groupby('Year')['Total_no_of_Deaths'].sum()\n",
    "\n",
    "result_adf = adfuller(time_series_data)\n",
    "print(f'ADF Statistic: {result_adf[0]}')\n",
    "print(f'p-value: {result_adf[1]}')\n",
    "\n",
    "order = (1, 1, 1)\n",
    "model = SARIMAX(time_series_data, order=order, enforce_stationarity=False, enforce_invertibility=False)\n",
    "results = model.fit(disp=False)\n",
    "\n",
    "print(results.summary())\n",
    "\n",
    "forecast_steps = 1  # Set this to 1 to predict 2020\n",
    "forecast = results.get_forecast(steps=forecast_steps)\n",
    "forecast_index = pd.RangeIndex(start=time_series_data.index[-1] + 1, stop=time_series_data.index[-1] + forecast_steps + 1)\n",
    "forecast_series = pd.Series(forecast.predicted_mean.values, index=forecast_index)\n",
    "\n",
    "plt.figure(figsize=(12, 6))\n",
    "plt.plot(time_series_data, label='Original Time Series')\n",
    "plt.plot(results.fittedvalues, color='red', label='Fitted Values')\n",
    "plt.plot(forecast_series, color='green', linestyle='dashed', label='Forecast')\n",
    "plt.title('ARIMA Model Forecast')\n",
    "plt.xlabel('Year')\n",
    "plt.ylabel('Total Number of Deaths')\n",
    "plt.legend()\n",
    "plt.show()"
   ]
  },
  {
   "cell_type": "code",
   "execution_count": null,
   "metadata": {
    "colab": {
     "base_uri": "https://localhost:8080/"
    },
    "id": "VpwZ0Tlq0msj",
    "outputId": "0e9cdf87-dd15-4511-c675-2a3ec0b0081d"
   },
   "outputs": [],
   "source": [
    "print(f'Predicted number of deaths for 2020 using ARIMA: {forecast_series.iloc[0]}')"
   ]
  },
  {
   "cell_type": "code",
   "execution_count": null,
   "metadata": {
    "colab": {
     "base_uri": "https://localhost:8080/",
     "height": 598
    },
    "id": "Ax-RXANN0vAy",
    "outputId": "6d825956-1123-4e5e-c924-67111e70e4e7"
   },
   "outputs": [],
   "source": [
    "time_series_data = df[['Year', 'Total_no_of_Deaths']]\n",
    "time_series_data = time_series_data.groupby('Year')['Total_no_of_Deaths'].sum().reset_index()\n",
    "\n",
    "X = time_series_data[['Year']]\n",
    "y = time_series_data['Total_no_of_Deaths']\n",
    "\n",
    "X_train, X_test, y_train, y_test = train_test_split(X, y, test_size=0.2, random_state=42)\n",
    "\n",
    "rf_model = RandomForestRegressor(n_estimators=100, random_state=42)\n",
    "\n",
    "rf_model.fit(X_train, y_train)\n",
    "\n",
    "predictions = rf_model.predict(X_test)\n",
    "\n",
    "mse = mean_squared_error(y_test, predictions)\n",
    "r2 = r2_score(y_test, predictions)\n",
    "\n",
    "print(f'Mean Squared Error: {mse}')\n",
    "print(f'R-squared: {r2}')\n",
    "\n",
    "plt.figure(figsize=(12, 6))\n",
    "plt.scatter(X_test, y_test, color='blue', label='Actual')\n",
    "plt.scatter(X_test, predictions, color='red', label='Predicted')\n",
    "plt.title('Random Forest Regression: Actual vs Predicted')\n",
    "plt.xlabel('Year')\n",
    "plt.ylabel('Total Number of Deaths')\n",
    "plt.legend()\n",
    "plt.show()"
   ]
  },
  {
   "cell_type": "code",
   "execution_count": null,
   "metadata": {
    "colab": {
     "base_uri": "https://localhost:8080/"
    },
    "id": "QNf1kBIF1JUM",
    "outputId": "4662c3f3-082a-4e75-ecfe-3a096bdd246e"
   },
   "outputs": [],
   "source": [
    "year_2020_prediction_random_forest = rf_model.predict([[2020]])\n",
    "print(f'Predicted number of deaths for 2020 using random forest: {year_2020_prediction_random_forest[0]}')"
   ]
  },
  {
   "cell_type": "code",
   "execution_count": null,
   "metadata": {
    "colab": {
     "base_uri": "https://localhost:8080/",
     "height": 598
    },
    "id": "RKXbfrG41Wz8",
    "outputId": "1124a319-22da-4237-c384-8362456ad209"
   },
   "outputs": [],
   "source": [
    "time_series_data = df[['Year', 'Total_no_of_Deaths']]\n",
    "time_series_data = time_series_data.groupby('Year')['Total_no_of_Deaths'].sum().reset_index()\n",
    "\n",
    "X = time_series_data[['Year']]\n",
    "y = time_series_data['Total_no_of_Deaths']\n",
    "\n",
    "X_train, X_test, y_train, y_test = train_test_split(X, y, test_size=0.2, random_state=42)\n",
    "\n",
    "svr_model = SVR(kernel='linear')\n",
    "\n",
    "svr_model.fit(X_train, y_train)\n",
    "predictions = svr_model.predict(X_test)\n",
    "mse = mean_squared_error(y_test, predictions)\n",
    "r2 = r2_score(y_test, predictions)\n",
    "\n",
    "print(f'Mean Squared Error: {mse}')\n",
    "print(f'R-squared: {r2}')\n",
    "\n",
    "plt.figure(figsize=(12, 6))\n",
    "plt.scatter(X_test, y_test, color='blue', label='Actual')\n",
    "plt.scatter(X_test, predictions, color='red', label='Predicted')\n",
    "plt.title('SVR Regression: Actual vs Predicted')\n",
    "plt.xlabel('Year')\n",
    "plt.ylabel('Total Number of Deaths')\n",
    "plt.legend()\n",
    "plt.show()"
   ]
  },
  {
   "cell_type": "code",
   "execution_count": null,
   "metadata": {
    "colab": {
     "base_uri": "https://localhost:8080/"
    },
    "id": "qWEvCjpd8zw1",
    "outputId": "9691ccb2-706c-45fc-c19d-18130ecb3cf8"
   },
   "outputs": [],
   "source": [
    "print(f'Predicted number of deaths for 2020 using trend analysis: {year_2020_prediction_trend_analysis}')\n",
    "print(f'Predicted number of deaths for 2020 using ARIMA: {forecast_series.iloc[0]}')\n",
    "print(f'Predicted number of deaths for 2020 using random forest: {year_2020_prediction_random_forest[0]}')\n",
    "#print(f'Predicted number of deaths for 2020 using SVR: {year_2020_prediction_using_SVR[0]}')"
   ]
  },
  {
   "cell_type": "code",
   "execution_count": null,
   "metadata": {
    "id": "UHJBmcyp9Ail"
   },
   "outputs": [],
   "source": []
  },
  {
   "cell_type": "markdown",
   "metadata": {
    "id": "Knqg4hYEDwmu"
   },
   "source": []
  },
  {
   "cell_type": "markdown",
   "metadata": {
    "id": "kNzXNbpy9zpw"
   },
   "source": [
    "# 2025"
   ]
  },
  {
   "cell_type": "code",
   "execution_count": null,
   "metadata": {
    "colab": {
     "base_uri": "https://localhost:8080/"
    },
    "id": "A54wjcNeUTb-",
    "outputId": "e854e730-d05c-4a0f-9375-0b5c2ec11a8f"
   },
   "outputs": [],
   "source": [
    "import numpy as np\n",
    "import pandas as pd\n",
    "from sklearn.model_selection import train_test_split\n",
    "from sklearn.linear_model import LinearRegression\n",
    "from sklearn.metrics import mean_absolute_error, mean_squared_error, r2_score\n",
    "\n",
    "# Load your dataset (assuming it's stored in a DataFrame named df)\n",
    "\n",
    "# Assuming you have your data stored in X and y arrays\n",
    "X = df.drop(columns=['Country/Territory', 'Code', 'Year'])  # Drop non-feature columns\n",
    "y = df.drop(columns=['Country/Territory', 'Code', 'Year'])  # Use all cause of death columns as target variables\n",
    "\n",
    "# Split the data into training and testing sets\n",
    "X_train, X_test, y_train, y_test = train_test_split(X, y, test_size=0.2, random_state=42)\n",
    "\n",
    "# Train the Linear Regression model\n",
    "model_lr = LinearRegression()\n",
    "model_lr.fit(X_train, y_train)\n",
    "\n",
    "# Make predictions\n",
    "y_pred_lr = model_lr.predict(X_test)\n",
    "\n",
    "# Evaluate the model\n",
    "mae_lr = mean_absolute_error(y_test, y_pred_lr)\n",
    "mse_lr = mean_squared_error(y_test, y_pred_lr)\n",
    "rmse_lr = np.sqrt(mse_lr)\n",
    "r2_lr = r2_score(y_test, y_pred_lr)\n",
    "\n",
    "print(\"Linear Regression:\")\n",
    "print(f\"Mean Absolute Error: {mae_lr:.2f}\")\n",
    "print(f\"Root Mean Squared Error: {rmse_lr:.2f}\")\n",
    "print(f\"R-squared: {r2_lr:.2f}\")"
   ]
  },
  {
   "cell_type": "code",
   "execution_count": null,
   "metadata": {
    "colab": {
     "base_uri": "https://localhost:8080/"
    },
    "id": "hCVWPgWjDY4W",
    "outputId": "284fc654-b3d2-4b79-9192-075803d57e7d"
   },
   "outputs": [],
   "source": [
    "from sklearn.ensemble import RandomForestRegressor\n",
    "\n",
    "# Train the Random Forest Regression model\n",
    "model_rf = RandomForestRegressor(n_estimators=100, random_state=42)\n",
    "model_rf.fit(X_train, y_train)\n",
    "\n",
    "# Make predictions\n",
    "y_pred_rf = model_rf.predict(X_test)\n",
    "\n",
    "# Evaluate the model\n",
    "mae_rf = mean_absolute_error(y_test, y_pred_rf)\n",
    "mse_rf = mean_squared_error(y_test, y_pred_rf)\n",
    "rmse_rf = np.sqrt(mse_rf)\n",
    "r2_rf = r2_score(y_test, y_pred_rf)\n",
    "\n",
    "print(\"Random Forest Regression:\")\n",
    "print(f\"Mean Absolute Error: {mae_rf:.2f}\")\n",
    "print(f\"Root Mean Squared Error: {rmse_rf:.2f}\")\n",
    "print(f\"R-squared: {r2_rf:.2f}\")"
   ]
  },
  {
   "cell_type": "code",
   "execution_count": null,
   "metadata": {
    "colab": {
     "background_save": true,
     "base_uri": "https://localhost:8080/"
    },
    "id": "6r4hWt-5IykM",
    "outputId": "7632a1b8-f462-4fe8-cc9a-f4e21abfb187"
   },
   "outputs": [],
   "source": [
    "import tensorflow as tf\n",
    "from tensorflow.keras.models import Sequential\n",
    "from tensorflow.keras.layers import Dense\n",
    "\n",
    "# Define the model architecture\n",
    "model_ann = Sequential([\n",
    "    Dense(128, activation='relu', input_shape=(X_train.shape[1],)),\n",
    "    Dense(64, activation='relu'),\n",
    "    Dense(32, activation='relu'),\n",
    "    Dense(1, activation='linear')  # Linear activation for regression\n",
    "])\n",
    "\n",
    "# Compile the model\n",
    "model_ann.compile(optimizer='adam',\n",
    "                  loss='mean_squared_error',\n",
    "                  metrics=['mean_absolute_error', 'mean_squared_error'])\n",
    "\n",
    "# Train the model\n",
    "history = model_ann.fit(X_train, y_train, epochs=1000, batch_size=32, validation_split=0.2)\n",
    "\n",
    "# Evaluate the model\n",
    "mae_ann, _, rmse_ann = model_ann.evaluate(X_test, y_test)\n",
    "\n",
    "print(\"Artificial Neural Network (ANN):\")\n",
    "print(f\"Mean Absolute Error: {mae_ann:.2f}\")\n",
    "print(f\"Root Mean Squared Error: {rmse_ann:.2f}\")"
   ]
  },
  {
   "cell_type": "code",
   "execution_count": null,
   "metadata": {
    "colab": {
     "base_uri": "https://localhost:8080/"
    },
    "id": "T29WUOAjHm8r",
    "outputId": "26a970ed-e8e5-48a2-dce8-b5d38ecbe739"
   },
   "outputs": [],
   "source": [
    "import pandas as pd\n",
    "from sklearn.model_selection import train_test_split\n",
    "from sklearn.ensemble import RandomForestRegressor\n",
    "from sklearn.linear_model import LinearRegression\n",
    "from sklearn.metrics import mean_squared_error\n",
    "from sklearn.preprocessing import StandardScaler\n",
    "from sklearn.pipeline import Pipeline\n",
    "from sklearn.compose import ColumnTransformer\n",
    "from sklearn.neural_network import MLPRegressor\n",
    "\n",
    "\n",
    "# Splitting features and target\n",
    "X = df.drop(columns=['Country/Territory', 'Code', 'Year', 'Total_no_of_Deaths'])\n",
    "y = df['Total_no_of_Deaths']\n",
    "\n",
    "# Splitting into training and testing sets\n",
    "X_train, X_test, y_train, y_test = train_test_split(X, y, test_size=0.2, random_state=42)\n",
    "\n",
    "# Preprocessing: Standardize features\n",
    "numeric_features = X.columns\n",
    "numeric_transformer = Pipeline(steps=[\n",
    "    ('scaler', StandardScaler())\n",
    "])\n",
    "\n",
    "preprocessor = ColumnTransformer(\n",
    "    transformers=[\n",
    "        ('num', numeric_transformer, numeric_features)\n",
    "    ])\n",
    "\n",
    "# Train Random Forest Regressor\n",
    "rf_regressor = Pipeline(steps=[\n",
    "    ('preprocessor', preprocessor),\n",
    "    ('regressor', RandomForestRegressor(random_state=42))\n",
    "])\n",
    "\n",
    "rf_regressor.fit(X_train, y_train)\n",
    "rf_predictions = rf_regressor.predict(X_test)\n",
    "rf_mse = mean_squared_error(y_test, rf_predictions)\n",
    "\n",
    "# Train Linear Regression\n",
    "linear_regressor = Pipeline(steps=[\n",
    "    ('preprocessor', preprocessor),\n",
    "    ('regressor', LinearRegression())\n",
    "])\n",
    "\n",
    "linear_regressor.fit(X_train, y_train)\n",
    "linear_predictions = linear_regressor.predict(X_test)\n",
    "linear_mse = mean_squared_error(y_test, linear_predictions)\n",
    "\n",
    "# Train Neural Network\n",
    "mlp_regressor = Pipeline(steps=[\n",
    "    ('preprocessor', preprocessor),\n",
    "    ('regressor', MLPRegressor(hidden_layer_sizes=(100, 50), max_iter=500, random_state=42))\n",
    "])\n",
    "\n",
    "mlp_regressor.fit(X_train, y_train)\n",
    "mlp_predictions = mlp_regressor.predict(X_test)\n",
    "mlp_mse = mean_squared_error(y_test, mlp_predictions)\n",
    "\n",
    "print(\"Random Forest MSE:\", rf_mse)\n",
    "print(\"Linear Regression MSE:\", linear_mse)\n",
    "print(\"Neural Network MSE:\", mlp_mse)\n",
    "\n",
    "# Use the best-performing model to predict number of deaths for each cause in 2025\n",
    "best_model = linear_regressor  # Change this to the best performing model\n",
    "X_2025 = X  # Assuming you want to predict for the entire dataset\n",
    "predictions_2025 = best_model.predict(X_2025)\n",
    "\n",
    "# Print predictions for 2025\n",
    "print(\"Predictions for 2025:\")\n",
    "print(predictions_2025)"
   ]
  },
  {
   "cell_type": "code",
   "execution_count": null,
   "metadata": {
    "id": "CHS3AklMU8CS"
   },
   "outputs": [],
   "source": []
  }
 ],
 "metadata": {
  "accelerator": "GPU",
  "colab": {
   "collapsed_sections": [
    "dNVTtRG366of",
    "g9eNex8X_8W_"
   ],
   "gpuType": "T4",
   "provenance": []
  },
  "kernelspec": {
   "display_name": "Python 3 (ipykernel)",
   "language": "python",
   "name": "python3"
  },
  "language_info": {
   "codemirror_mode": {
    "name": "ipython",
    "version": 3
   },
   "file_extension": ".py",
   "mimetype": "text/x-python",
   "name": "python",
   "nbconvert_exporter": "python",
   "pygments_lexer": "ipython3",
   "version": "3.12.3"
  }
 },
 "nbformat": 4,
 "nbformat_minor": 4
}
